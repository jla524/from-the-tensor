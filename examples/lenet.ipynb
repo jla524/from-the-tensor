{
 "cells": [
  {
   "cell_type": "markdown",
   "metadata": {},
   "source": [
    "A rough copy of https://blog.paperspace.com/writing-lenet5-from-scratch-in-python/"
   ]
  },
  {
   "cell_type": "code",
   "execution_count": 1,
   "metadata": {},
   "outputs": [],
   "source": [
    "from functools import partial\n",
    "from PIL import Image\n",
    "import numpy as np\n",
    "import jax.numpy as jnp\n",
    "import optax\n",
    "from flax import nnx\n",
    "from datasets import load_dataset"
   ]
  },
  {
   "cell_type": "code",
   "execution_count": 2,
   "metadata": {},
   "outputs": [],
   "source": [
    "rngs = nnx.Rngs(0)"
   ]
  },
  {
   "cell_type": "code",
   "execution_count": 3,
   "metadata": {},
   "outputs": [],
   "source": [
    "def transform(x):\n",
    "    x = [Image.fromarray(xx).resize((32, 32)) for xx in x]\n",
    "    x = np.stack([np.asarray(xx) for xx in x], axis=0)\n",
    "    x = np.expand_dims(x, axis=-1)\n",
    "    return x"
   ]
  },
  {
   "cell_type": "code",
   "execution_count": 4,
   "metadata": {},
   "outputs": [],
   "source": [
    "dataset = load_dataset(\"mnist\")\n",
    "\n",
    "X_train = transform([np.array(image) for image in dataset[\"train\"][\"image\"]])\n",
    "Y_train = np.array(dataset[\"train\"][\"label\"], dtype=np.int32)\n",
    "\n",
    "X_test = transform([np.array(image) for image in dataset[\"test\"][\"image\"]])\n",
    "Y_test = np.array(dataset[\"test\"][\"label\"], dtype=np.int32)"
   ]
  },
  {
   "cell_type": "code",
   "execution_count": 5,
   "metadata": {},
   "outputs": [],
   "source": [
    "class LeNet(nnx.Module):\n",
    "    def __init__(self, *, rngs):\n",
    "        self.conv1 = nnx.Conv(1, 6, kernel_size=(5, 5), padding=\"VALID\", rngs=rngs)\n",
    "        self.bn1 = nnx.BatchNorm(num_features=6, rngs=rngs)\n",
    "        self.max_pool1 = partial(nnx.max_pool, window_shape=(2, 2), strides=(2, 2))\n",
    "        self.conv2 = nnx.Conv(6, 16, kernel_size=(5, 5), padding=\"VALID\", rngs=rngs)\n",
    "        self.bn2 = nnx.BatchNorm(num_features=16, rngs=rngs)\n",
    "        self.max_pool2 = partial(nnx.max_pool, window_shape=(2, 2), strides=(2, 2))\n",
    "        self.l1 = nnx.Linear(400, 120, rngs=rngs)\n",
    "        self.l2 = nnx.Linear(120, 84, rngs=rngs)\n",
    "        self.l3 = nnx.Linear(84, 10, rngs=rngs)\n",
    "\n",
    "    def __call__(self, x):\n",
    "        x = self.bn1(self.conv1(x))\n",
    "        x = nnx.relu(self.max_pool1(x))\n",
    "        x = self.max_pool2(nnx.relu(self.bn2(self.conv2(x))))\n",
    "        x = x.reshape(x.shape[0], -1)\n",
    "        x = nnx.relu(self.l1(x))\n",
    "        x = nnx.relu(self.l2(x))\n",
    "        x = self.l3(x)\n",
    "        return x"
   ]
  },
  {
   "cell_type": "code",
   "execution_count": 6,
   "metadata": {},
   "outputs": [
    {
     "name": "stdout",
     "output_type": "stream",
     "text": [
      "[[ 1.06200893e-09 -1.02494360e-08 -2.24418906e-09 -1.07206874e-08\n",
      "   1.28257112e-08  1.35244624e-08 -1.24616042e-08 -1.31719808e-08\n",
      "   3.65592498e-08 -1.91581808e-08]]\n"
     ]
    }
   ],
   "source": [
    "model = LeNet(rngs=rngs)\n",
    "y = model(jnp.ones((1, 32, 32, 1)))\n",
    "nnx.display(y)"
   ]
  },
  {
   "cell_type": "code",
   "execution_count": 7,
   "metadata": {},
   "outputs": [],
   "source": [
    "learning_rate = 0.005\n",
    "momentum = 0.9\n",
    "\n",
    "optimizer = nnx.Optimizer(model, optax.adamw(learning_rate, momentum))\n",
    "metrics = nnx.MultiMetric(accuracy=nnx.metrics.Accuracy(), loss=nnx.metrics.Average(\"loss\"))"
   ]
  },
  {
   "cell_type": "code",
   "execution_count": 8,
   "metadata": {},
   "outputs": [],
   "source": [
    "def loss_fn(model, images, labels):\n",
    "    logits = model(images)\n",
    "    loss = optax.softmax_cross_entropy_with_integer_labels(logits=logits, labels=labels).mean()\n",
    "    return loss, logits\n",
    "\n",
    "@nnx.jit\n",
    "def train_step(model, optimizer, metrics, images, labels):\n",
    "    grad_fn = nnx.value_and_grad(loss_fn, has_aux=True)\n",
    "    (loss, logits), grads = grad_fn(model, images, labels)\n",
    "    metrics.update(loss=loss, logits=logits, labels=labels)\n",
    "    optimizer.update(grads)\n",
    "\n",
    "@nnx.jit\n",
    "def eval_step(model, metrics, images, labels):\n",
    "    loss, logits = loss_fn(model, images, labels)\n",
    "    metrics.update(loss=loss, logits=logits, labels=labels)"
   ]
  },
  {
   "cell_type": "code",
   "execution_count": 9,
   "metadata": {},
   "outputs": [
    {
     "name": "stdout",
     "output_type": "stream",
     "text": [
      "[train] step: 200, loss: 0.3610, accuracy: 88.34\n",
      "[test] step: 200, loss: 0.1361, accuracy: 95.88\n",
      "[train] step: 400, loss: 0.1499, accuracy: 95.34\n",
      "[test] step: 400, loss: 0.1141, accuracy: 96.54\n",
      "[train] step: 600, loss: 0.1319, accuracy: 95.81\n",
      "[test] step: 600, loss: 0.0962, accuracy: 97.14\n",
      "[train] step: 800, loss: 0.0966, accuracy: 97.17\n",
      "[test] step: 800, loss: 0.0675, accuracy: 97.92\n",
      "[train] step: 1000, loss: 0.0859, accuracy: 97.45\n",
      "[test] step: 1000, loss: 0.0755, accuracy: 97.71\n",
      "[train] step: 1200, loss: 0.0866, accuracy: 97.50\n",
      "[test] step: 1200, loss: 0.0584, accuracy: 98.25\n",
      "[train] step: 1400, loss: 0.0776, accuracy: 97.67\n",
      "[test] step: 1400, loss: 0.0744, accuracy: 97.67\n",
      "[train] step: 1600, loss: 0.0736, accuracy: 97.77\n",
      "[test] step: 1600, loss: 0.0871, accuracy: 97.31\n",
      "[train] step: 1800, loss: 0.0689, accuracy: 98.05\n",
      "[test] step: 1800, loss: 0.0660, accuracy: 98.05\n",
      "[train] step: 1874, loss: 0.0621, accuracy: 97.80\n",
      "[test] step: 1874, loss: 0.0562, accuracy: 98.32\n"
     ]
    }
   ],
   "source": [
    "batch_size = 32\n",
    "eval_every = 200\n",
    "train_steps = len(X_train) // batch_size\n",
    "test_steps = len(X_test) // batch_size\n",
    "metrics_history = {\"train_loss\": [], \"train_accuracy\": [], \"test_loss\": [], \"test_accuracy\": []}\n",
    "\n",
    "for step in range(train_steps):\n",
    "    sample = np.random.randint(0, len(X_train), size=batch_size)\n",
    "    images, labels = X_train[sample], Y_train[sample]\n",
    "    train_step(model, optimizer, metrics, images, labels)\n",
    "\n",
    "    if step > 0 and (step % eval_every == 0 or step == train_steps - 1):\n",
    "        for metric, value in metrics.compute().items():\n",
    "            metrics_history[f\"train_{metric}\"].append(value)\n",
    "        metrics.reset()\n",
    "\n",
    "        for test_step in range(test_steps):\n",
    "            images = X_test[batch_size*test_step:batch_size*(test_step+1)]\n",
    "            labels = Y_test[batch_size*test_step:batch_size*(test_step+1)]\n",
    "            eval_step(model, metrics, images, labels)\n",
    "\n",
    "        for metric, value in metrics.compute().items():\n",
    "            metrics_history[f\"test_{metric}\"].append(value)\n",
    "        metrics.reset()\n",
    "\n",
    "        print(\n",
    "            f\"[train] step: {step}, \"\n",
    "            f\"loss: {metrics_history['train_loss'][-1]:.4f}, \"\n",
    "            f\"accuracy: {metrics_history['train_accuracy'][-1] * 100:.2f}\"\n",
    "        )\n",
    "        print(\n",
    "            f\"[test] step: {step}, \"\n",
    "            f\"loss: {metrics_history['test_loss'][-1]:.4f}, \"\n",
    "            f\"accuracy: {metrics_history['test_accuracy'][-1] * 100:.2f}\"\n",
    "        )"
   ]
  },
  {
   "cell_type": "code",
   "execution_count": null,
   "metadata": {},
   "outputs": [],
   "source": []
  }
 ],
 "metadata": {
  "kernelspec": {
   "display_name": "env",
   "language": "python",
   "name": "python3"
  },
  "language_info": {
   "codemirror_mode": {
    "name": "ipython",
    "version": 3
   },
   "file_extension": ".py",
   "mimetype": "text/x-python",
   "name": "python",
   "nbconvert_exporter": "python",
   "pygments_lexer": "ipython3",
   "version": "3.12.7"
  }
 },
 "nbformat": 4,
 "nbformat_minor": 4
}
