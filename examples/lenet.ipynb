{
 "cells": [
  {
   "cell_type": "markdown",
   "metadata": {},
   "source": [
    "A rough copy of https://blog.paperspace.com/writing-lenet5-from-scratch-in-python/"
   ]
  },
  {
   "cell_type": "code",
   "execution_count": 1,
   "metadata": {},
   "outputs": [],
   "source": [
    "from functools import partial\n",
    "from PIL import Image\n",
    "import numpy as np\n",
    "import jax.numpy as jnp\n",
    "import optax\n",
    "from flax import nnx\n",
    "from datasets import load_dataset"
   ]
  },
  {
   "cell_type": "code",
   "execution_count": 2,
   "metadata": {},
   "outputs": [],
   "source": [
    "rngs = nnx.Rngs(0)"
   ]
  },
  {
   "cell_type": "code",
   "execution_count": 34,
   "metadata": {},
   "outputs": [],
   "source": [
    "def transform(x):\n",
    "    x = [Image.fromarray(xx).resize((32, 32)) for xx in x]\n",
    "    x = np.stack([np.asarray(xx) for xx in x], axis=0)\n",
    "    x = np.expand_dims(x, axis=-1)\n",
    "    return x"
   ]
  },
  {
   "cell_type": "code",
   "execution_count": 35,
   "metadata": {},
   "outputs": [],
   "source": [
    "dataset = load_dataset(\"mnist\")\n",
    "\n",
    "X_train = transform(np.array([np.array(image) for image in dataset[\"train\"][\"image\"]], dtype=np.float32))\n",
    "Y_train = np.array(dataset[\"train\"][\"label\"], dtype=np.int32)\n",
    "\n",
    "X_test = transform(np.array([np.array(image) for image in dataset[\"test\"][\"image\"]], dtype=np.float32))\n",
    "Y_test = np.array(dataset[\"test\"][\"label\"], dtype=np.int32)"
   ]
  },
  {
   "cell_type": "code",
   "execution_count": 55,
   "metadata": {},
   "outputs": [],
   "source": [
    "class LeNet:\n",
    "    def __init__(self, *, rngs):\n",
    "        self.conv1 = nnx.Conv(1, 6, kernel_size=(5, 5), rngs=rngs)\n",
    "        self.bn1 = nnx.BatchNorm(num_features=6, rngs=rngs)\n",
    "        self.max_pool1 = partial(nnx.max_pool, window_shape=(2, 2), strides=(2, 2))\n",
    "        self.conv2 = nnx.Conv(6, 16, kernel_size=(5, 5), rngs=rngs)\n",
    "        self.bn2 = nnx.BatchNorm(num_features=16, rngs=rngs)\n",
    "        self.max_pool2 = partial(nnx.max_pool, window_shape=(2, 2), strides=(2, 2))\n",
    "        self.l1 = nnx.Linear(1024, 256, rngs=rngs)\n",
    "        self.l2 = nnx.Linear(256, 64, rngs=rngs)\n",
    "        self.l3 = nnx.Linear(64, 10, rngs=rngs)\n",
    "\n",
    "    def __call__(self, x):\n",
    "        x = self.bn1(self.conv1(x))\n",
    "        x = nnx.relu(self.max_pool1(x))\n",
    "        x = self.max_pool2(nnx.relu(self.bn2(self.conv2(x))))\n",
    "        x = x.reshape(x.shape[0], -1)\n",
    "        x = nnx.relu(self.l1(x))\n",
    "        x = nnx.relu(self.l2(x))\n",
    "        x = self.l3(x)\n",
    "        return x"
   ]
  },
  {
   "cell_type": "code",
   "execution_count": 56,
   "metadata": {},
   "outputs": [
    {
     "name": "stdout",
     "output_type": "stream",
     "text": [
      "(9001, 32, 32, 1)\n",
      "(9001, 32, 32, 6)\n",
      "(9001, 16, 16, 6)\n",
      "[[-0.5924146   0.36494392 -0.32361963 ... -0.20976512  0.6094093\n",
      "  -0.06287368]\n",
      " [-0.5924146   0.36494392 -0.32361963 ... -0.20976512  0.6094093\n",
      "  -0.06287368]\n",
      " [-0.5924146   0.36494392 -0.32361963 ... -0.20976512  0.6094093\n",
      "  -0.06287368]\n",
      " ...\n",
      " [-0.5924146   0.36494392 -0.32361963 ... -0.20976512  0.6094093\n",
      "  -0.06287368]\n",
      " [-0.5924146   0.36494392 -0.32361963 ... -0.20976512  0.6094093\n",
      "  -0.06287368]\n",
      " [-0.5924146   0.36494392 -0.32361963 ... -0.20976512  0.6094093\n",
      "  -0.06287368]]\n"
     ]
    }
   ],
   "source": [
    "model = LeNet(rngs=rngs)\n",
    "y = model(jnp.ones((9001, 32, 32, 1)))\n",
    "nnx.display(y)"
   ]
  },
  {
   "cell_type": "code",
   "execution_count": null,
   "metadata": {},
   "outputs": [],
   "source": []
  }
 ],
 "metadata": {
  "kernelspec": {
   "display_name": "env",
   "language": "python",
   "name": "python3"
  },
  "language_info": {
   "codemirror_mode": {
    "name": "ipython",
    "version": 3
   },
   "file_extension": ".py",
   "mimetype": "text/x-python",
   "name": "python",
   "nbconvert_exporter": "python",
   "pygments_lexer": "ipython3",
   "version": "3.12.7"
  }
 },
 "nbformat": 4,
 "nbformat_minor": 4
}
