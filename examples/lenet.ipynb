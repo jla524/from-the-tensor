{
 "cells": [
  {
   "cell_type": "markdown",
   "metadata": {},
   "source": [
    "A rough copy of https://blog.paperspace.com/writing-lenet5-from-scratch-in-python/"
   ]
  },
  {
   "cell_type": "code",
   "execution_count": 1,
   "metadata": {},
   "outputs": [],
   "source": [
    "from functools import partial\n",
    "from PIL import Image\n",
    "import numpy as np\n",
    "import jax.numpy as jnp\n",
    "import optax\n",
    "from flax import nnx\n",
    "from datasets import load_dataset"
   ]
  },
  {
   "cell_type": "code",
   "execution_count": 2,
   "metadata": {},
   "outputs": [],
   "source": [
    "rngs = nnx.Rngs(0)"
   ]
  },
  {
   "cell_type": "code",
   "execution_count": 3,
   "metadata": {},
   "outputs": [],
   "source": [
    "def transform(x):\n",
    "    x = [Image.fromarray(xx).resize((32, 32)) for xx in x]\n",
    "    x = np.stack([np.asarray(xx) for xx in x], axis=0)\n",
    "    x = np.expand_dims(x, axis=-1)\n",
    "    return x"
   ]
  },
  {
   "cell_type": "code",
   "execution_count": 4,
   "metadata": {},
   "outputs": [],
   "source": [
    "dataset = load_dataset(\"mnist\")\n",
    "\n",
    "X_train = transform(np.array([np.array(image) for image in dataset[\"train\"][\"image\"]], dtype=np.float32))\n",
    "Y_train = np.array(dataset[\"train\"][\"label\"], dtype=np.int32)\n",
    "\n",
    "X_test = transform(np.array([np.array(image) for image in dataset[\"test\"][\"image\"]], dtype=np.float32))\n",
    "Y_test = np.array(dataset[\"test\"][\"label\"], dtype=np.int32)"
   ]
  },
  {
   "cell_type": "code",
   "execution_count": 8,
   "metadata": {},
   "outputs": [],
   "source": [
    "class LeNet(nnx.Module):\n",
    "    def __init__(self, *, rngs):\n",
    "        self.conv1 = nnx.Conv(1, 6, kernel_size=(5, 5), padding=\"VALID\", rngs=rngs)\n",
    "        self.bn1 = nnx.BatchNorm(num_features=6, rngs=rngs)\n",
    "        self.max_pool1 = partial(nnx.max_pool, window_shape=(2, 2), strides=(2, 2))\n",
    "        self.conv2 = nnx.Conv(6, 16, kernel_size=(5, 5), padding=\"VALID\", rngs=rngs)\n",
    "        self.bn2 = nnx.BatchNorm(num_features=16, rngs=rngs)\n",
    "        self.max_pool2 = partial(nnx.max_pool, window_shape=(2, 2), strides=(2, 2))\n",
    "        self.l1 = nnx.Linear(400, 120, rngs=rngs)\n",
    "        self.l2 = nnx.Linear(120, 84, rngs=rngs)\n",
    "        self.l3 = nnx.Linear(84, 10, rngs=rngs)\n",
    "\n",
    "    def __call__(self, x):\n",
    "        x = self.bn1(self.conv1(x))\n",
    "        x = nnx.relu(self.max_pool1(x))\n",
    "        x = self.max_pool2(nnx.relu(self.bn2(self.conv2(x))))\n",
    "        x = x.reshape(x.shape[0], -1)\n",
    "        x = nnx.relu(self.l1(x))\n",
    "        x = nnx.relu(self.l2(x))\n",
    "        x = self.l3(x)\n",
    "        return x"
   ]
  },
  {
   "cell_type": "code",
   "execution_count": 9,
   "metadata": {},
   "outputs": [
    {
     "name": "stdout",
     "output_type": "stream",
     "text": [
      "[[ 9.4948254e-09 -2.1230468e-08 -2.3708544e-09 -9.1365280e-09\n",
      "   3.1189669e-09 -1.0155607e-08  1.0608820e-09  4.7077546e-09\n",
      "   1.5445300e-08 -5.4524523e-09]]\n"
     ]
    }
   ],
   "source": [
    "model = LeNet(rngs=rngs)\n",
    "y = model(jnp.ones((1, 32, 32, 1)))\n",
    "nnx.display(y)"
   ]
  },
  {
   "cell_type": "code",
   "execution_count": 10,
   "metadata": {},
   "outputs": [],
   "source": [
    "learning_rate = 0.005\n",
    "momentum = 0.9\n",
    "\n",
    "optimizer = nnx.Optimizer(model, optax.adamw(learning_rate, momentum))\n",
    "metrics = nnx.MultiMetric(accuracy=nnx.metrics.Accuracy(), loss=nnx.metrics.Average(\"loss\"))"
   ]
  },
  {
   "cell_type": "code",
   "execution_count": 11,
   "metadata": {},
   "outputs": [],
   "source": [
    "def loss_fn(model, images, labels):\n",
    "    logits = model(images)\n",
    "    loss = optax.softmax_cross_entropy_with_integer_labels(logits=logits, labels=labels).mean()\n",
    "    return loss, logits\n",
    "\n",
    "@nnx.jit\n",
    "def train_step(model, optimizer, metrics, images, labels):\n",
    "    grad_fn = nnx.value_and_grad(loss_fn, has_aux=True)\n",
    "    (loss, logits), grads = grad_fn(model, images, labels)\n",
    "    metrics.update(loss=loss, logits=logits, labels=labels)\n",
    "    optimizer.update(grads)\n",
    "\n",
    "@nnx.jit\n",
    "def eval_step(model, metrics, images, labels):\n",
    "    loss, logits = loss_fn(model, images, labels)\n",
    "    metrics.update(loss=loss, logits=logits, labels=labels)"
   ]
  },
  {
   "cell_type": "code",
   "execution_count": 12,
   "metadata": {},
   "outputs": [
    {
     "name": "stdout",
     "output_type": "stream",
     "text": [
      "[train] step: 200, loss: 0.3921, accuracy: 87.39\n",
      "[test] step: 200, loss: 0.1467, accuracy: 95.26\n",
      "[train] step: 400, loss: 0.1486, accuracy: 95.50\n",
      "[test] step: 400, loss: 0.1109, accuracy: 96.55\n",
      "[train] step: 600, loss: 0.1071, accuracy: 96.78\n",
      "[test] step: 600, loss: 0.0736, accuracy: 97.88\n",
      "[train] step: 800, loss: 0.0970, accuracy: 97.23\n",
      "[test] step: 800, loss: 0.0696, accuracy: 97.80\n",
      "[train] step: 1000, loss: 0.0919, accuracy: 97.41\n",
      "[test] step: 1000, loss: 0.0547, accuracy: 98.28\n",
      "[train] step: 1200, loss: 0.0763, accuracy: 97.64\n",
      "[test] step: 1200, loss: 0.0711, accuracy: 97.93\n",
      "[train] step: 1400, loss: 0.0766, accuracy: 97.66\n",
      "[test] step: 1400, loss: 0.0694, accuracy: 97.76\n",
      "[train] step: 1600, loss: 0.0789, accuracy: 97.67\n",
      "[test] step: 1600, loss: 0.0583, accuracy: 98.32\n",
      "[train] step: 1800, loss: 0.0764, accuracy: 97.88\n",
      "[test] step: 1800, loss: 0.0666, accuracy: 98.14\n",
      "[train] step: 1875, loss: 0.0647, accuracy: 97.88\n",
      "[test] step: 1875, loss: 0.0485, accuracy: 98.49\n"
     ]
    }
   ],
   "source": [
    "batch_size = 32\n",
    "eval_every = 200\n",
    "train_steps = len(X_train) // batch_size + 1\n",
    "test_steps = len(X_test) // batch_size + 1\n",
    "metrics_history = {\"train_loss\": [], \"train_accuracy\": [], \"test_loss\": [], \"test_accuracy\": []}\n",
    "\n",
    "for step in range(train_steps):\n",
    "    sample = np.random.randint(0, len(X_train), size=batch_size)\n",
    "    images, labels = X_train[sample], Y_train[sample]\n",
    "    train_step(model, optimizer, metrics, images, labels)\n",
    "\n",
    "    if step > 0 and (step % eval_every == 0 or step == train_steps - 1):\n",
    "        for metric, value in metrics.compute().items():\n",
    "            metrics_history[f\"train_{metric}\"].append(value)\n",
    "        metrics.reset()\n",
    "\n",
    "        for test_step in range(test_steps):\n",
    "            images = X_test[batch_size*test_step:batch_size*(test_step+1)]\n",
    "            labels = Y_test[batch_size*test_step:batch_size*(test_step+1)]\n",
    "            eval_step(model, metrics, images, labels)\n",
    "\n",
    "        for metric, value in metrics.compute().items():\n",
    "            metrics_history[f\"test_{metric}\"].append(value)\n",
    "        metrics.reset()\n",
    "\n",
    "        print(\n",
    "            f\"[train] step: {step}, \"\n",
    "            f\"loss: {metrics_history['train_loss'][-1]:.4f}, \"\n",
    "            f\"accuracy: {metrics_history['train_accuracy'][-1] * 100:.2f}\"\n",
    "        )\n",
    "        print(\n",
    "            f\"[test] step: {step}, \"\n",
    "            f\"loss: {metrics_history['test_loss'][-1]:.4f}, \"\n",
    "            f\"accuracy: {metrics_history['test_accuracy'][-1] * 100:.2f}\"\n",
    "        )"
   ]
  },
  {
   "cell_type": "code",
   "execution_count": null,
   "metadata": {},
   "outputs": [],
   "source": []
  }
 ],
 "metadata": {
  "kernelspec": {
   "display_name": "env",
   "language": "python",
   "name": "python3"
  },
  "language_info": {
   "codemirror_mode": {
    "name": "ipython",
    "version": 3
   },
   "file_extension": ".py",
   "mimetype": "text/x-python",
   "name": "python",
   "nbconvert_exporter": "python",
   "pygments_lexer": "ipython3",
   "version": "3.12.7"
  }
 },
 "nbformat": 4,
 "nbformat_minor": 4
}
