{
 "cells": [
  {
   "attachments": {},
   "cell_type": "markdown",
   "metadata": {},
   "source": [
    "A rough copy of https://jaketae.github.io/study/pytorch-rnn/"
   ]
  },
  {
   "cell_type": "code",
   "execution_count": 1,
   "metadata": {},
   "outputs": [],
   "source": [
    "import random\n",
    "import numpy as np\n",
    "import jax.numpy as jnp\n",
    "import optax\n",
    "from flax import nnx\n",
    "from data import fetch_names, name_to_array"
   ]
  },
  {
   "cell_type": "code",
   "execution_count": 2,
   "metadata": {},
   "outputs": [],
   "source": [
    "random.seed(1337)\n",
    "rngs = nnx.Rngs(0)"
   ]
  },
  {
   "cell_type": "code",
   "execution_count": 3,
   "metadata": {},
   "outputs": [],
   "source": [
    "train_set, test_set, char_to_idx, lang_to_label = fetch_names(jnp.array, jnp.array)\n",
    "label_to_lang = {label: lang for lang, label in lang_to_label.items()}\n",
    "num_letters = len(char_to_idx)\n",
    "num_langs = len(lang_to_label)"
   ]
  },
  {
   "cell_type": "code",
   "execution_count": 4,
   "metadata": {},
   "outputs": [],
   "source": [
    "class RNN(nnx.Module):\n",
    "    def __init__(self, *, input_size, hidden_size, output_size, rngs):\n",
    "        self.hidden_size = hidden_size\n",
    "        self.linear1 = nnx.Linear(input_size + hidden_size, hidden_size, rngs=rngs)\n",
    "        self.linear2 = nnx.Linear(input_size + hidden_size, output_size, rngs=rngs)\n",
    "\n",
    "    def __call__(self, x, h):\n",
    "        x = jnp.concat([x, h], axis=1)\n",
    "        hidden = nnx.tanh(self.linear1(x))\n",
    "        output = nnx.log_softmax(self.linear2(x))\n",
    "        return output, hidden\n",
    "\n",
    "    def init_hidden(self):\n",
    "        return jnp.zeros((1, self.hidden_size))"
   ]
  },
  {
   "cell_type": "code",
   "execution_count": 5,
   "metadata": {},
   "outputs": [],
   "source": [
    "learning_rate = 0.001\n",
    "momentum = 0.9\n",
    "\n",
    "model = RNN(input_size=num_letters, hidden_size=256, output_size=num_langs, rngs=rngs)\n",
    "optimizer = nnx.Optimizer(model, optax.adamw(learning_rate, momentum))\n",
    "metrics = nnx.MultiMetric(accuracy=nnx.metrics.Accuracy(), loss=nnx.metrics.Average(\"loss\"))"
   ]
  },
  {
   "cell_type": "code",
   "execution_count": 6,
   "metadata": {},
   "outputs": [],
   "source": [
    "def loss_fn(model, name, label, hidden_state):\n",
    "    for char in name:\n",
    "        logits, hidden_state = model(char, hidden_state)\n",
    "    loss = optax.softmax_cross_entropy_with_integer_labels(logits=logits, labels=label).mean()\n",
    "    return loss, logits\n",
    "\n",
    "\n",
    "@nnx.jit\n",
    "def train_step(model, optimizer, metrics, name, label, hidden_state):\n",
    "    grad_fn = nnx.value_and_grad(loss_fn, has_aux=True)\n",
    "    (loss, logits), grads = grad_fn(model, name, label, hidden_state)\n",
    "    metrics.update(loss=loss, logits=logits, labels=label)\n",
    "    optimizer.update(grads)\n",
    "\n",
    "\n",
    "@nnx.jit\n",
    "def eval_step(model, metrics, name, label, hidden_state):\n",
    "    loss, logits = loss_fn(model, name, label, hidden_state)\n",
    "    metrics.update(loss=loss, logits=logits, labels=label)"
   ]
  },
  {
   "cell_type": "code",
   "execution_count": 7,
   "metadata": {},
   "outputs": [
    {
     "name": "stdout",
     "output_type": "stream",
     "text": [
      "[train] step: 3612, loss: 1.5943, accuracy: 54.66\n",
      "[test] step: 3612, loss: 1.5543, accuracy: 50.47\n",
      "[train] step: 7224, loss: 1.3836, accuracy: 59.61\n",
      "[test] step: 7224, loss: 1.2816, accuracy: 61.04\n",
      "[train] step: 10836, loss: 1.3226, accuracy: 60.33\n",
      "[test] step: 10836, loss: 1.2562, accuracy: 62.48\n",
      "[train] step: 14448, loss: 1.2605, accuracy: 62.04\n",
      "[test] step: 14448, loss: 1.1998, accuracy: 64.77\n",
      "[train] step: 18060, loss: 1.2137, accuracy: 63.10\n",
      "[test] step: 18060, loss: 1.2834, accuracy: 62.68\n",
      "[train] step: 3612, loss: 1.0906, accuracy: 66.75\n",
      "[test] step: 3612, loss: 1.1116, accuracy: 66.02\n",
      "[train] step: 7224, loss: 1.1385, accuracy: 65.09\n",
      "[test] step: 7224, loss: 1.1394, accuracy: 65.72\n",
      "[train] step: 10836, loss: 1.1456, accuracy: 65.17\n",
      "[test] step: 10836, loss: 1.1741, accuracy: 63.63\n",
      "[train] step: 14448, loss: 1.0732, accuracy: 66.81\n",
      "[test] step: 14448, loss: 1.1642, accuracy: 64.18\n",
      "[train] step: 18060, loss: 1.0911, accuracy: 65.89\n",
      "[test] step: 18060, loss: 1.0950, accuracy: 66.72\n"
     ]
    }
   ],
   "source": [
    "learning_rate = 0.005\n",
    "momentum = 0.9\n",
    "eval_every = len(train_set) // 5\n",
    "metrics_history = {\"train_loss\": [], \"train_accuracy\": [], \"test_loss\": [], \"test_accuracy\": []}\n",
    "\n",
    "for _ in range(2):\n",
    "    random.shuffle(train_set)\n",
    "    for step, (name, label) in enumerate(train_set):\n",
    "        hidden_state = model.init_hidden()\n",
    "        train_step(model, optimizer, metrics, name, label, hidden_state)\n",
    "        if step > 0 and step % eval_every == 0:\n",
    "            for metric, value in metrics.compute().items():\n",
    "                metrics_history[f\"train_{metric}\"].append(value)\n",
    "            metrics.reset()\n",
    "            for name, label in test_set:\n",
    "                hidden_state = model.init_hidden()\n",
    "                eval_step(model, metrics, name, label, hidden_state)\n",
    "            for metric, value in metrics.compute().items():\n",
    "                metrics_history[f\"test_{metric}\"].append(value)\n",
    "            metrics.reset()\n",
    "            print(\n",
    "                f\"[train] step: {step}, \"\n",
    "                f\"loss: {metrics_history['train_loss'][-1]:.4f}, \"\n",
    "                f\"accuracy: {metrics_history['train_accuracy'][-1] * 100:.2f}\"\n",
    "            )\n",
    "            print(\n",
    "                f\"[test] step: {step}, \"\n",
    "                f\"loss: {metrics_history['test_loss'][-1]:.4f}, \"\n",
    "                f\"accuracy: {metrics_history['test_accuracy'][-1] * 100:.2f}\"\n",
    "            )"
   ]
  },
  {
   "cell_type": "code",
   "execution_count": 8,
   "metadata": {},
   "outputs": [],
   "source": [
    "def predict(name: str) -> str:\n",
    "    tensor_name = jnp.array(name_to_array(name, char_to_idx))\n",
    "    hidden_state = model.init_hidden()\n",
    "    for char in tensor_name:\n",
    "        logits, hidden_state = model(char, hidden_state)\n",
    "    pred = np.asarray(logits).argmax()\n",
    "    return label_to_lang[pred]"
   ]
  },
  {
   "cell_type": "code",
   "execution_count": 9,
   "metadata": {},
   "outputs": [
    {
     "name": "stdout",
     "output_type": "stream",
     "text": [
      "Jake: English\n",
      "Qin: Chinese\n",
      "Fernando: Italian\n",
      "Demirkan: Russian\n"
     ]
    }
   ],
   "source": [
    "for name in (\"Jake\", \"Qin\", \"Fernando\", \"Demirkan\"):\n",
    "    print(f\"{name}: {predict(name)}\")"
   ]
  },
  {
   "cell_type": "code",
   "execution_count": null,
   "metadata": {},
   "outputs": [],
   "source": []
  }
 ],
 "metadata": {
  "kernelspec": {
   "display_name": "env",
   "language": "python",
   "name": "python3"
  },
  "language_info": {
   "codemirror_mode": {
    "name": "ipython",
    "version": 3
   },
   "file_extension": ".py",
   "mimetype": "text/x-python",
   "name": "python",
   "nbconvert_exporter": "python",
   "pygments_lexer": "ipython3",
   "version": "3.12.7"
  }
 },
 "nbformat": 4,
 "nbformat_minor": 4
}
