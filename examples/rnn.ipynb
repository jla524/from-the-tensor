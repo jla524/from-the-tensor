{
 "cells": [
  {
   "attachments": {},
   "cell_type": "markdown",
   "metadata": {},
   "source": [
    "A rough copy of https://jaketae.github.io/study/pytorch-rnn/"
   ]
  },
  {
   "cell_type": "code",
   "execution_count": 1,
   "metadata": {},
   "outputs": [],
   "source": [
    "import random\n",
    "import numpy as np\n",
    "import jax.numpy as jnp\n",
    "import optax\n",
    "from flax import nnx\n",
    "from data import fetch_names, name_to_array"
   ]
  },
  {
   "cell_type": "code",
   "execution_count": 2,
   "metadata": {},
   "outputs": [],
   "source": [
    "rngs = nnx.Rngs(0)"
   ]
  },
  {
   "cell_type": "code",
   "execution_count": 3,
   "metadata": {},
   "outputs": [],
   "source": [
    "train_set, test_set, char_to_idx, lang_to_label = fetch_names(jnp.array, jnp.array)\n",
    "label_to_lang = {label: lang for lang, label in lang_to_label.items()}\n",
    "num_letters = len(char_to_idx)\n",
    "num_langs = len(lang_to_label)"
   ]
  },
  {
   "cell_type": "code",
   "execution_count": 4,
   "metadata": {},
   "outputs": [],
   "source": [
    "class RNN(nnx.Module):\n",
    "    def __init__(self, *, input_size, hidden_size, output_size, rngs):\n",
    "        self.hidden_size = hidden_size\n",
    "        self.linear1 = nnx.Linear(input_size + hidden_size, hidden_size, rngs=rngs)\n",
    "        self.linear2 = nnx.Linear(input_size + hidden_size, output_size, rngs=rngs)\n",
    "\n",
    "    def __call__(self, x, h):\n",
    "        x = jnp.concat([x, h], axis=1)\n",
    "        hidden = nnx.tanh(self.linear1(x))\n",
    "        output = nnx.log_softmax(self.linear2(x))\n",
    "        return output, hidden\n",
    "\n",
    "    def init_hidden(self):\n",
    "        return jnp.zeros((1, self.hidden_size))"
   ]
  },
  {
   "cell_type": "code",
   "execution_count": 5,
   "metadata": {},
   "outputs": [],
   "source": [
    "learning_rate = 0.0005\n",
    "momentum = 0.9\n",
    "\n",
    "model = RNN(input_size=num_letters, hidden_size=256, output_size=num_langs, rngs=rngs)\n",
    "optimizer = nnx.Optimizer(model, optax.adamw(learning_rate, momentum))\n",
    "metrics = nnx.MultiMetric(accuracy=nnx.metrics.Accuracy(), loss=nnx.metrics.Average(\"loss\"))"
   ]
  },
  {
   "cell_type": "code",
   "execution_count": 6,
   "metadata": {},
   "outputs": [],
   "source": [
    "def loss_fn(model, name, label, hidden_state):\n",
    "    for char in name:\n",
    "        logits, hidden_state = model(char, hidden_state)\n",
    "    loss = optax.softmax_cross_entropy_with_integer_labels(logits=logits, labels=label).mean()\n",
    "    return loss, logits\n",
    "\n",
    "\n",
    "@nnx.jit\n",
    "def train_step(model, optimizer, metrics, name, label, hidden_state):\n",
    "    grad_fn = nnx.value_and_grad(loss_fn, has_aux=True)\n",
    "    (loss, logits), grads = grad_fn(model, name, label, hidden_state)\n",
    "    metrics.update(loss=loss, logits=logits, labels=label)\n",
    "    optimizer.update(grads)\n",
    "\n",
    "\n",
    "@nnx.jit\n",
    "def eval_step(model, metrics, name, label, hidden_state):\n",
    "    loss, logits = loss_fn(model, name, label, hidden_state)\n",
    "    metrics.update(loss=loss, logits=logits, labels=label)"
   ]
  },
  {
   "cell_type": "code",
   "execution_count": 7,
   "metadata": {},
   "outputs": [
    {
     "name": "stdout",
     "output_type": "stream",
     "text": [
      "[train] step: 3612, loss: 1.5445, accuracy: 56.02\n",
      "[test] step: 3612, loss: 1.3976, accuracy: 60.39\n",
      "[train] step: 7224, loss: 1.2843, accuracy: 62.40\n",
      "[test] step: 7224, loss: 1.2691, accuracy: 63.98\n",
      "[train] step: 10836, loss: 1.1957, accuracy: 64.53\n",
      "[test] step: 10836, loss: 1.1865, accuracy: 65.92\n",
      "[train] step: 14448, loss: 1.0944, accuracy: 67.72\n",
      "[test] step: 14448, loss: 1.1349, accuracy: 64.87\n",
      "[train] step: 18060, loss: 1.0181, accuracy: 69.91\n",
      "[test] step: 18060, loss: 1.0439, accuracy: 68.61\n",
      "[train] step: 3612, loss: 0.9944, accuracy: 70.37\n",
      "[test] step: 3612, loss: 1.0900, accuracy: 67.66\n",
      "[train] step: 7224, loss: 0.9631, accuracy: 70.63\n",
      "[test] step: 7224, loss: 1.0529, accuracy: 68.61\n",
      "[train] step: 10836, loss: 0.9498, accuracy: 71.15\n",
      "[test] step: 10836, loss: 1.0109, accuracy: 68.26\n",
      "[train] step: 14448, loss: 0.9251, accuracy: 71.40\n",
      "[test] step: 14448, loss: 0.9313, accuracy: 72.20\n",
      "[train] step: 18060, loss: 0.9249, accuracy: 71.71\n",
      "[test] step: 18060, loss: 0.9578, accuracy: 72.70\n"
     ]
    }
   ],
   "source": [
    "eval_every = len(train_set) // 5\n",
    "metrics_history = {\"train_loss\": [], \"train_accuracy\": [], \"test_loss\": [], \"test_accuracy\": []}\n",
    "\n",
    "for _ in range(2):\n",
    "    random.shuffle(train_set)\n",
    "    for step, (name, label) in enumerate(train_set):\n",
    "        hidden_state = model.init_hidden()\n",
    "        train_step(model, optimizer, metrics, name, label, hidden_state)\n",
    "        if step > 0 and step % eval_every == 0:\n",
    "            for metric, value in metrics.compute().items():\n",
    "                metrics_history[f\"train_{metric}\"].append(value)\n",
    "            metrics.reset()\n",
    "            for name, label in test_set:\n",
    "                hidden_state = model.init_hidden()\n",
    "                eval_step(model, metrics, name, label, hidden_state)\n",
    "            for metric, value in metrics.compute().items():\n",
    "                metrics_history[f\"test_{metric}\"].append(value)\n",
    "            metrics.reset()\n",
    "            print(\n",
    "                f\"[train] step: {step}, \"\n",
    "                f\"loss: {metrics_history['train_loss'][-1]:.4f}, \"\n",
    "                f\"accuracy: {metrics_history['train_accuracy'][-1] * 100:.2f}\"\n",
    "            )\n",
    "            print(\n",
    "                f\"[test] step: {step}, \"\n",
    "                f\"loss: {metrics_history['test_loss'][-1]:.4f}, \"\n",
    "                f\"accuracy: {metrics_history['test_accuracy'][-1] * 100:.2f}\"\n",
    "            )"
   ]
  },
  {
   "cell_type": "code",
   "execution_count": 8,
   "metadata": {},
   "outputs": [],
   "source": [
    "def predict(name: str) -> str:\n",
    "    tensor_name = jnp.array(name_to_array(name, char_to_idx))\n",
    "    hidden_state = model.init_hidden()\n",
    "    for char in tensor_name:\n",
    "        logits, hidden_state = model(char, hidden_state)\n",
    "    pred = np.asarray(logits).argmax()\n",
    "    return label_to_lang[pred]"
   ]
  },
  {
   "cell_type": "code",
   "execution_count": 9,
   "metadata": {},
   "outputs": [
    {
     "name": "stdout",
     "output_type": "stream",
     "text": [
      "Jake: Russian\n",
      "Qin: Chinese\n",
      "Fernando: Italian\n",
      "Demirkan: Russian\n"
     ]
    }
   ],
   "source": [
    "for name in (\"Jake\", \"Qin\", \"Fernando\", \"Demirkan\"):\n",
    "    print(f\"{name}: {predict(name)}\")"
   ]
  },
  {
   "cell_type": "code",
   "execution_count": null,
   "metadata": {},
   "outputs": [],
   "source": []
  }
 ],
 "metadata": {
  "kernelspec": {
   "display_name": "env",
   "language": "python",
   "name": "python3"
  },
  "language_info": {
   "codemirror_mode": {
    "name": "ipython",
    "version": 3
   },
   "file_extension": ".py",
   "mimetype": "text/x-python",
   "name": "python",
   "nbconvert_exporter": "python",
   "pygments_lexer": "ipython3",
   "version": "3.12.8"
  }
 },
 "nbformat": 4,
 "nbformat_minor": 4
}
